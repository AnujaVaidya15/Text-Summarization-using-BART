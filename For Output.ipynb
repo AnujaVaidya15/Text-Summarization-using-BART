{
  "nbformat": 4,
  "nbformat_minor": 0,
  "metadata": {
    "colab": {
      "provenance": []
    },
    "kernelspec": {
      "name": "python3",
      "display_name": "Python 3"
    },
    "language_info": {
      "name": "python"
    }
  },
  "cells": [
    {
      "cell_type": "code",
      "source": [
        "from google.colab import drive\n",
        "drive.mount('/content/drive')"
      ],
      "metadata": {
        "colab": {
          "base_uri": "https://localhost:8080/"
        },
        "id": "OooTws5yqG9C",
        "outputId": "66a0325d-158a-4354-886f-22a589436e05"
      },
      "execution_count": null,
      "outputs": [
        {
          "output_type": "stream",
          "name": "stdout",
          "text": [
            "Mounted at /content/drive\n"
          ]
        }
      ]
    },
    {
      "cell_type": "code",
      "source": [
        "from transformers import BartTokenizer, BartForConditionalGeneration\n",
        "import torch\n",
        "\n",
        "# Path to your trained BART model\n",
        "model_path = \"/content/drive/MyDrive/bart_summarization_model\"\n",
        "\n",
        "# Load tokenizer and model\n",
        "tokenizer = BartTokenizer.from_pretrained(model_path)\n",
        "model = BartForConditionalGeneration.from_pretrained(model_path).to(\"cuda\" if torch.cuda.is_available() else \"cpu\")\n"
      ],
      "metadata": {
        "colab": {
          "base_uri": "https://localhost:8080/"
        },
        "id": "Zd7xXidnp3ft",
        "outputId": "4b479bff-395b-4b64-e6e8-14ddb2c3eeb7"
      },
      "execution_count": null,
      "outputs": [
        {
          "output_type": "stream",
          "name": "stderr",
          "text": [
            "/usr/local/lib/python3.11/dist-packages/transformers/models/bart/configuration_bart.py:176: UserWarning: Please make sure the config includes `forced_bos_token_id=0` in future versions. The config can simply be saved and uploaded again to be fixed.\n",
            "  warnings.warn(\n"
          ]
        }
      ]
    },
    {
      "cell_type": "code",
      "source": [
        "def generate_summary(text):\n",
        "    inputs = tokenizer(text, return_tensors=\"pt\", max_length=1024, truncation=True).to(model.device)\n",
        "    summary_ids = model.generate(\n",
        "        **inputs,\n",
        "        max_length=128,\n",
        "        num_beams=4,\n",
        "        no_repeat_ngram_size=3,\n",
        "        early_stopping=True\n",
        "    )\n",
        "    return tokenizer.decode(summary_ids[0], skip_special_tokens=True)\n"
      ],
      "metadata": {
        "id": "0fBwDLiap-tR"
      },
      "execution_count": null,
      "outputs": []
    },
    {
      "cell_type": "code",
      "source": [
        "# Ask the user for input (can paste any article or paragraph)\n",
        "user_input = input(\"📝 Enter the article you want to summarize:\\n\")\n",
        "\n",
        "# Generate and display summary\n",
        "summary = generate_summary(user_input)\n",
        "print(\"\\n📌 Summary:\\n\", summary)\n"
      ],
      "metadata": {
        "colab": {
          "base_uri": "https://localhost:8080/"
        },
        "id": "yhb2v83rqWU0",
        "outputId": "32d74993-2fe9-4af1-9ca0-63679a351529"
      },
      "execution_count": null,
      "outputs": [
        {
          "name": "stdout",
          "output_type": "stream",
          "text": [
            "📝 Enter the article you want to summarize:\n",
            "In a groundbreaking deep-sea expedition, marine biologists have discovered a previously unknown species of jellyfish in the Pacific Ocean. The discovery was made over 3,000 meters below the surface using a remotely operated vehicle (ROV) equipped with high-definition cameras. The jellyfish, which glows with a bioluminescent blue hue, exhibits unique tentacle movements and an unusually shaped bell, distinguishing it from other known species.  Dr. Angela Kim, the lead scientist on the expedition, described the jellyfish as \"a stunning example of nature's creativity.\" The team collected several specimens for further analysis and believe the discovery may lead to new insights into deep-sea ecosystems, which remain largely unexplored.  The find has excited the scientific community and may have implications for biotechnology and medicine. Bioluminescent organisms like this jellyfish are often studied for their potential applications in imaging and diagnostics. The research team plans to publish their full findings in the upcoming issue of Marine Biology Today.\n"
          ]
        },
        {
          "output_type": "stream",
          "name": "stderr",
          "text": [
            "/usr/local/lib/python3.11/dist-packages/transformers/generation/utils.py:1581: UserWarning: You have modified the pretrained model configuration to control generation. This is a deprecated strategy to control generation and will be removed in v5. Please use and modify the model generation configuration (see https://huggingface.co/docs/transformers/generation_strategies#default-text-generation-configuration )\n",
            "  warnings.warn(\n"
          ]
        },
        {
          "output_type": "stream",
          "name": "stdout",
          "text": [
            "\n",
            "📌 Summary:\n",
            " Marine biologists have discovered a previously unknown species of jellyfish in the Pacific Ocean .\n",
            "The jellyfish glows with a bioluminescent blue hue and exhibits unique tentacle movements and an unusually shaped bell .\n",
            "Biologists believe the discovery may lead to new insights into deep-sea ecosystems, which remain largely unexplored .\n"
          ]
        }
      ]
    },
    {
      "cell_type": "code",
      "source": [],
      "metadata": {
        "id": "0UMHdxRNrAib"
      },
      "execution_count": null,
      "outputs": []
    },
    {
      "cell_type": "code",
      "source": [],
      "metadata": {
        "id": "NFFtc5gzd3e3"
      },
      "execution_count": null,
      "outputs": []
    }
  ]
}